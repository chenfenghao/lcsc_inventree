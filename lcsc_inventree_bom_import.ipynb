{
 "cells": [
  {
   "cell_type": "code",
   "execution_count": 1,
   "id": "a8dca147",
   "metadata": {},
   "outputs": [],
   "source": [
    "from inventree.api import InvenTreeAPI\n",
    "from inventree import company  # noqa: E402\n",
    "from inventree.stock import StockItem, StockLocation  # noqa: E402\n",
    "from inventree.company import SupplierPart\n",
    "from inventree.part import Part, PartAttachment, PartCategory, PartCategoryParameterTemplate, Parameter, ParameterTemplate, PartTestTemplate, PartRelated, BomItem  # noqa:E402"
   ]
  },
  {
   "cell_type": "code",
   "execution_count": 2,
   "id": "3fdeaf4f",
   "metadata": {},
   "outputs": [],
   "source": [
    "import urllib.request\n",
    "import pandas as pd\n",
    "from bs4 import BeautifulSoup\n",
    "import sys\n",
    "import getpass\n",
    "from tqdm import tqdm"
   ]
  },
  {
   "cell_type": "code",
   "execution_count": 3,
   "id": "c7d58338",
   "metadata": {},
   "outputs": [],
   "source": [
    "#登录Inventree\n",
    "def login_inventree(url,username,password):\n",
    "    try:\n",
    "        api = InvenTreeAPI(host=url, username=username, password=password)\n",
    "        print('登录成功！')\n",
    "        return api\n",
    "    except:\n",
    "        #print('登录失败！')\n",
    "        raise(ValueError('登录失败'))"
   ]
  },
  {
   "cell_type": "code",
   "execution_count": 4,
   "id": "444cee13",
   "metadata": {},
   "outputs": [],
   "source": [
    "#获取立创商城的订单（手动）保存到txt中\n",
    "#手动获取订单信息的方法\n",
    "def read_lcsc_order(filepath):\n",
    "    try:\n",
    "        with open(filepath, 'r', encoding='utf-8') as f:\n",
    "            soup= BeautifulSoup(f.read(), 'html.parser')\n",
    "            print('文件读取成功！')\n",
    "            return soup\n",
    "    except:\n",
    "        #print('文件读取失败.....')\n",
    "        raise(ValueError('文件读取失败'))"
   ]
  },
  {
   "cell_type": "code",
   "execution_count": 5,
   "id": "45f26b97",
   "metadata": {},
   "outputs": [],
   "source": [
    "#处理订单数据\n",
    "#获取元器件名称 编号 链接 封装 etc\n",
    "#获取元器件图片链接\n",
    "def deal_order_data(soup):\n",
    "    df=pd.DataFrame(columns=['IPN','name','descripition','keyword','footprint','link','img','stock','price'])\n",
    "    try:\n",
    "        divs=soup.find_all(class_='order-a-item')\n",
    "        for i in divs:\n",
    "            wpercent=i.find_all(class_='w-percent-15')\n",
    "            dict = {'IPN':i.img['alt'],\n",
    "                   'link':i.a['href'],\n",
    "                    'img':i.img['src'],\n",
    "                    'name':i.li.text.rstrip().split('/')[0].rstrip(),\n",
    "                    'descripition':i.li.text.rstrip().split('/')[1].lstrip(),\n",
    "                    'footprint':i.a['title'].split('/')[1].lstrip(),\n",
    "                    'keyword':i.a.text.strip(),\n",
    "                    'stock':wpercent[0].text[:-1],\n",
    "                    'price':wpercent[2].text[1:-2]\n",
    "                   }\n",
    "            data = pd.DataFrame(dict,index=[divs.index(i)])\n",
    "            df=pd.concat([df,data])\n",
    "            #print(i.img['alt'],i.img['src'],i.img['title'],i.li.text.rstrip(),i.a['href'])\n",
    "            #print(i.a['title'],i.a.text.strip(),wpercent[0].text[:-1],wpercent[2].text[1:-2])\n",
    "            download_lcsc_pics(i.img['src'],r'lc/'+i.img['alt']+'.jpg')\n",
    "        return df\n",
    "    except:\n",
    "        print('文件解析失败....')"
   ]
  },
  {
   "cell_type": "code",
   "execution_count": 6,
   "id": "22fbbe4f",
   "metadata": {},
   "outputs": [],
   "source": [
    "#下载图片\n",
    "#便于LCSC的图片上传到Inventree中\n",
    "#图片命名唯一和IPN一致\n",
    "def download_lcsc_pics(img_link,img_path):\n",
    "    urllib.request.urlretrieve(img_link,img_path)"
   ]
  },
  {
   "cell_type": "code",
   "execution_count": 7,
   "id": "e71b37e1",
   "metadata": {},
   "outputs": [],
   "source": [
    "#保存数据到excel中（可选）\n",
    "def save_datas_to_excel():\n",
    "    return 0"
   ]
  },
  {
   "cell_type": "code",
   "execution_count": 8,
   "id": "6bd88bc2",
   "metadata": {},
   "outputs": [],
   "source": [
    "def Inventree_read_PartCategory(api):\n",
    "    cats = PartCategory.list(api)\n",
    "    print('pk ','name')\n",
    "    for i in cats:\n",
    "        print(i.pk,'  ',i.name);\n",
    "    cat_pk=input('请输入插入的分类pk号：')\n",
    "    return cat_pk"
   ]
  },
  {
   "cell_type": "code",
   "execution_count": 9,
   "id": "fa7b2478",
   "metadata": {},
   "outputs": [],
   "source": [
    "def Inventree_read_company(api):\n",
    "    coms=company.Company.list(api)\n",
    "    print('pk ','name')\n",
    "    for i in coms:\n",
    "        print(i.pk,'  ',i.name);\n",
    "    company_pk=input('请输入插入的供应商pk号：')\n",
    "    return company_pk"
   ]
  },
  {
   "cell_type": "code",
   "execution_count": 10,
   "id": "3476d629",
   "metadata": {},
   "outputs": [],
   "source": [
    "def Inventree_read_location(api):\n",
    "    locs = StockLocation.list(api)\n",
    "    print('pk ','name')\n",
    "    for i in locs:\n",
    "        print(i.pk,'  ',i.name);\n",
    "    loc_pk=input('请输入插入的默认仓库pk号：')\n",
    "    return loc_pk"
   ]
  },
  {
   "cell_type": "code",
   "execution_count": 11,
   "id": "377f5d1e",
   "metadata": {},
   "outputs": [],
   "source": [
    "def Inventree_Part_create(api,df,loc_pk,company_pk,cat_pk):\n",
    "    pbar = tqdm(len(df.index))\n",
    "    for i in range(0,len(df.index)):\n",
    "        try:\n",
    "            couch = Part.create(api, {\n",
    "                'name': df.loc[i]['name'],\n",
    "                'description': df.loc[i]['descripition'],\n",
    "                'category': cat_pk,\n",
    "                'active': True,\n",
    "                'virtual': False,\n",
    "                'IPN':df.loc[i]['IPN'],\n",
    "                'link':df.loc[i]['link'],\n",
    "                'keywords':df.loc[i]['keyword'],\n",
    "                'default_location': loc_pk\n",
    "                ## Note - You do not have to fill out *all* fields\n",
    "                })\n",
    "            couch.uploadImage('lc/'+str(df.loc[i]['IPN'])+'.jpg')\n",
    "            StockItem.create(api, { 'part': couch.pk, 'quantity': df.loc[i]['stock'], 'location': loc_pk, 'status':10 })\n",
    "            SupplierPart.create(api,{\n",
    "            'part':couch.pk,\n",
    "            'supplier':company_pk,\n",
    "            'SKU':df.loc[i]['IPN']\n",
    "            })\n",
    "            print('导入'+str(df.loc[i]['IPN'])+'成功')\n",
    "        except:\n",
    "            print('导入'+str(df.loc[i]['IPN'])+'失败')\n",
    "        pbar.update(1/len(df.index))\n",
    "    print('导入完毕')\n",
    "    pbar.close()"
   ]
  },
  {
   "cell_type": "code",
   "execution_count": 12,
   "id": "e68f0437",
   "metadata": {
    "scrolled": true
   },
   "outputs": [
    {
     "ename": "KeyboardInterrupt",
     "evalue": "Interrupted by user",
     "output_type": "error",
     "traceback": [
      "\u001b[1;31m---------------------------------------------------------------------------\u001b[0m",
      "\u001b[1;31mKeyboardInterrupt\u001b[0m                         Traceback (most recent call last)",
      "Cell \u001b[1;32mIn[12], line 1\u001b[0m\n\u001b[1;32m----> 1\u001b[0m url\u001b[38;5;241m=\u001b[39m\u001b[38;5;28minput\u001b[39m(\u001b[38;5;124m'\u001b[39m\u001b[38;5;124murl:\u001b[39m\u001b[38;5;124m'\u001b[39m)\n\u001b[0;32m      2\u001b[0m username\u001b[38;5;241m=\u001b[39m\u001b[38;5;28minput\u001b[39m(\u001b[38;5;124m'\u001b[39m\u001b[38;5;124musername:\u001b[39m\u001b[38;5;124m'\u001b[39m)\n\u001b[0;32m      3\u001b[0m password\u001b[38;5;241m=\u001b[39mgetpass\u001b[38;5;241m.\u001b[39mgetpass(\u001b[38;5;124m'\u001b[39m\u001b[38;5;124mpassword:\u001b[39m\u001b[38;5;124m'\u001b[39m)\n",
      "File \u001b[1;32mD:\\soft_wares\\annacondas\\Lib\\site-packages\\ipykernel\\kernelbase.py:1175\u001b[0m, in \u001b[0;36mKernel.raw_input\u001b[1;34m(self, prompt)\u001b[0m\n\u001b[0;32m   1171\u001b[0m \u001b[38;5;28;01mif\u001b[39;00m \u001b[38;5;129;01mnot\u001b[39;00m \u001b[38;5;28mself\u001b[39m\u001b[38;5;241m.\u001b[39m_allow_stdin:\n\u001b[0;32m   1172\u001b[0m     \u001b[38;5;28;01mraise\u001b[39;00m StdinNotImplementedError(\n\u001b[0;32m   1173\u001b[0m         \u001b[38;5;124m\"\u001b[39m\u001b[38;5;124mraw_input was called, but this frontend does not support input requests.\u001b[39m\u001b[38;5;124m\"\u001b[39m\n\u001b[0;32m   1174\u001b[0m     )\n\u001b[1;32m-> 1175\u001b[0m \u001b[38;5;28;01mreturn\u001b[39;00m \u001b[38;5;28mself\u001b[39m\u001b[38;5;241m.\u001b[39m_input_request(\n\u001b[0;32m   1176\u001b[0m     \u001b[38;5;28mstr\u001b[39m(prompt),\n\u001b[0;32m   1177\u001b[0m     \u001b[38;5;28mself\u001b[39m\u001b[38;5;241m.\u001b[39m_parent_ident[\u001b[38;5;124m\"\u001b[39m\u001b[38;5;124mshell\u001b[39m\u001b[38;5;124m\"\u001b[39m],\n\u001b[0;32m   1178\u001b[0m     \u001b[38;5;28mself\u001b[39m\u001b[38;5;241m.\u001b[39mget_parent(\u001b[38;5;124m\"\u001b[39m\u001b[38;5;124mshell\u001b[39m\u001b[38;5;124m\"\u001b[39m),\n\u001b[0;32m   1179\u001b[0m     password\u001b[38;5;241m=\u001b[39m\u001b[38;5;28;01mFalse\u001b[39;00m,\n\u001b[0;32m   1180\u001b[0m )\n",
      "File \u001b[1;32mD:\\soft_wares\\annacondas\\Lib\\site-packages\\ipykernel\\kernelbase.py:1217\u001b[0m, in \u001b[0;36mKernel._input_request\u001b[1;34m(self, prompt, ident, parent, password)\u001b[0m\n\u001b[0;32m   1214\u001b[0m             \u001b[38;5;28;01mbreak\u001b[39;00m\n\u001b[0;32m   1215\u001b[0m \u001b[38;5;28;01mexcept\u001b[39;00m \u001b[38;5;167;01mKeyboardInterrupt\u001b[39;00m:\n\u001b[0;32m   1216\u001b[0m     \u001b[38;5;66;03m# re-raise KeyboardInterrupt, to truncate traceback\u001b[39;00m\n\u001b[1;32m-> 1217\u001b[0m     \u001b[38;5;28;01mraise\u001b[39;00m \u001b[38;5;167;01mKeyboardInterrupt\u001b[39;00m(\u001b[38;5;124m\"\u001b[39m\u001b[38;5;124mInterrupted by user\u001b[39m\u001b[38;5;124m\"\u001b[39m) \u001b[38;5;28;01mfrom\u001b[39;00m \u001b[38;5;28;01mNone\u001b[39;00m\n\u001b[0;32m   1218\u001b[0m \u001b[38;5;28;01mexcept\u001b[39;00m \u001b[38;5;167;01mException\u001b[39;00m:\n\u001b[0;32m   1219\u001b[0m     \u001b[38;5;28mself\u001b[39m\u001b[38;5;241m.\u001b[39mlog\u001b[38;5;241m.\u001b[39mwarning(\u001b[38;5;124m\"\u001b[39m\u001b[38;5;124mInvalid Message:\u001b[39m\u001b[38;5;124m\"\u001b[39m, exc_info\u001b[38;5;241m=\u001b[39m\u001b[38;5;28;01mTrue\u001b[39;00m)\n",
      "\u001b[1;31mKeyboardInterrupt\u001b[0m: Interrupted by user"
     ]
    }
   ],
   "source": [
    "url=input('url:')\n",
    "username=input('username:')\n",
    "password=getpass.getpass('password:')\n",
    "api=login_inventree(url,username,password)"
   ]
  },
  {
   "cell_type": "code",
   "execution_count": null,
   "id": "3c2a1c1c",
   "metadata": {
    "scrolled": false
   },
   "outputs": [],
   "source": [
    "filepath=input('file:')\n",
    "soup=read_lcsc_order(filepath)\n",
    "df=deal_order_data(soup)\n",
    "df"
   ]
  },
  {
   "cell_type": "code",
   "execution_count": null,
   "id": "4dfd1d7b",
   "metadata": {
    "scrolled": true
   },
   "outputs": [],
   "source": [
    "cat_pk=Inventree_read_PartCategory(api)\n",
    "company_pk=Inventree_read_company(api)\n",
    "loc_pk=Inventree_read_location(api)"
   ]
  },
  {
   "cell_type": "code",
   "execution_count": null,
   "id": "6d01b7cb",
   "metadata": {},
   "outputs": [],
   "source": [
    "Inventree_Part_create(api,df,loc_pk,company_pk,cat_pk)"
   ]
  },
  {
   "cell_type": "code",
   "execution_count": null,
   "id": "993c95a5",
   "metadata": {},
   "outputs": [],
   "source": []
  }
 ],
 "metadata": {
  "kernelspec": {
   "display_name": "Python 3 (ipykernel)",
   "language": "python",
   "name": "python3"
  },
  "language_info": {
   "codemirror_mode": {
    "name": "ipython",
    "version": 3
   },
   "file_extension": ".py",
   "mimetype": "text/x-python",
   "name": "python",
   "nbconvert_exporter": "python",
   "pygments_lexer": "ipython3",
   "version": "3.11.4"
  }
 },
 "nbformat": 4,
 "nbformat_minor": 5
}
