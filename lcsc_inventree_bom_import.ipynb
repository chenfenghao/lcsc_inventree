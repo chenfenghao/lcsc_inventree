{
 "cells": [
  {
   "cell_type": "code",
   "execution_count": 2,
   "id": "a8dca147",
   "metadata": {},
   "outputs": [],
   "source": [
    "from inventree.api import InvenTreeAPI\n",
    "from inventree import company  # noqa: E402\n",
    "from inventree.stock import StockItem, StockLocation  # noqa: E402\n",
    "from inventree.company import SupplierPart\n",
    "from inventree.part import Part, PartAttachment, PartCategory, PartCategoryParameterTemplate, Parameter, ParameterTemplate, PartTestTemplate, PartRelated, BomItem  # noqa:E402"
   ]
  },
  {
   "cell_type": "code",
   "execution_count": 3,
   "id": "3fdeaf4f",
   "metadata": {},
   "outputs": [],
   "source": [
    "import urllib.request\n",
    "import pandas as pd\n",
    "from bs4 import BeautifulSoup\n",
    "import sys\n",
    "import getpass\n",
    "from tqdm import tqdm"
   ]
  },
  {
   "cell_type": "code",
   "execution_count": 4,
   "id": "c7d58338",
   "metadata": {},
   "outputs": [],
   "source": [
    "#登录Inventree\n",
    "def login_inventree(url,username,password):\n",
    "    try:\n",
    "        api = InvenTreeAPI(host=url, username=username, password=password)\n",
    "        print('登录成功！')\n",
    "        return api\n",
    "    except:\n",
    "        #print('登录失败！')\n",
    "        raise(ValueError('登录失败'))"
   ]
  },
  {
   "cell_type": "code",
   "execution_count": 5,
   "id": "444cee13",
   "metadata": {},
   "outputs": [],
   "source": [
    "#获取立创商城的订单（手动）保存到txt中\n",
    "#手动获取订单信息的方法\n",
    "def read_lcsc_order(filepath):\n",
    "    try:\n",
    "        with open(filepath, 'r', encoding='utf-8') as f:\n",
    "            soup= BeautifulSoup(f.read(), 'html.parser')\n",
    "            print('文件读取成功！')\n",
    "            return soup\n",
    "    except:\n",
    "        #print('文件读取失败.....')\n",
    "        raise(ValueError('文件读取失败'))"
   ]
  },
  {
   "cell_type": "code",
   "execution_count": 6,
   "id": "45f26b97",
   "metadata": {},
   "outputs": [],
   "source": [
    "#处理订单数据\n",
    "#获取元器件名称 编号 链接 封装 etc\n",
    "#获取元器件图片链接\n",
    "def deal_order_data(soup):\n",
    "    df=pd.DataFrame(columns=['IPN','name','descripition','keyword','footprint','link','img','stock','price'])\n",
    "    try:\n",
    "        divs=soup.find_all(class_='order-a-item')\n",
    "        for i in divs:\n",
    "            wpercent=i.find_all(class_='w-percent-15')\n",
    "            dict = {'IPN':i.img['alt'],\n",
    "                   'link':i.a['href'],\n",
    "                    'img':i.img['src'],\n",
    "                    'name':i.li.text.rstrip().split('/')[0].rstrip(),\n",
    "                    'descripition':i.li.text.rstrip().split('/')[1].lstrip(),\n",
    "                    'footprint':i.a['title'].split('/')[1].lstrip(),\n",
    "                    'keyword':i.a.text.strip(),\n",
    "                    'stock':wpercent[0].text[:-1],\n",
    "                    'price':wpercent[2].text[1:-2]\n",
    "                   }\n",
    "            data = pd.DataFrame(dict,index=[divs.index(i)])\n",
    "            df=pd.concat([df,data])\n",
    "            #print(i.img['alt'],i.img['src'],i.img['title'],i.li.text.rstrip(),i.a['href'])\n",
    "            #print(i.a['title'],i.a.text.strip(),wpercent[0].text[:-1],wpercent[2].text[1:-2])\n",
    "            download_lcsc_pics(i.img['src'],r'lc/'+i.img['alt']+'.jpg')\n",
    "        return df\n",
    "    except:\n",
    "        print('文件解析失败....')"
   ]
  },
  {
   "cell_type": "code",
   "execution_count": 7,
   "id": "22fbbe4f",
   "metadata": {},
   "outputs": [],
   "source": [
    "#下载图片\n",
    "#便于LCSC的图片上传到Inventree中\n",
    "#图片命名唯一和IPN一致\n",
    "def download_lcsc_pics(img_link,img_path):\n",
    "    urllib.request.urlretrieve(img_link,img_path)"
   ]
  },
  {
   "cell_type": "code",
   "execution_count": 8,
   "id": "e71b37e1",
   "metadata": {},
   "outputs": [],
   "source": [
    "#保存数据到excel中（可选）\n",
    "def save_datas_to_excel():\n",
    "    return 0"
   ]
  },
  {
   "cell_type": "code",
   "execution_count": 9,
   "id": "6bd88bc2",
   "metadata": {},
   "outputs": [],
   "source": [
    "def Inventree_read_PartCategory(api):\n",
    "    cats = PartCategory.list(api)\n",
    "    print('pk ','name')\n",
    "    for i in cats:\n",
    "        print(i.pk,'  ',i.name);\n",
    "    cat_pk=input('请输入插入的分类pk号：')\n",
    "    return cat_pk"
   ]
  },
  {
   "cell_type": "code",
   "execution_count": 10,
   "id": "fa7b2478",
   "metadata": {},
   "outputs": [],
   "source": [
    "def Inventree_read_company(api):\n",
    "    coms=company.Company.list(api)\n",
    "    print('pk ','name')\n",
    "    for i in coms:\n",
    "        print(i.pk,'  ',i.name);\n",
    "    company_pk=input('请输入插入的供应商pk号：')\n",
    "    return company_pk"
   ]
  },
  {
   "cell_type": "code",
   "execution_count": 11,
   "id": "3476d629",
   "metadata": {},
   "outputs": [],
   "source": [
    "def Inventree_read_location(api):\n",
    "    locs = StockLocation.list(api)\n",
    "    print('pk ','name')\n",
    "    for i in locs:\n",
    "        print(i.pk,'  ',i.name);\n",
    "    loc_pk=input('请输入插入的默认仓库pk号：')\n",
    "    return loc_pk"
   ]
  },
  {
   "cell_type": "code",
   "execution_count": 12,
   "id": "377f5d1e",
   "metadata": {},
   "outputs": [],
   "source": [
    "def Inventree_Part_create(api,df,loc_pk,company_pk,cat_pk):\n",
    "    pbar = tqdm(len(df.index))\n",
    "    for i in range(0,len(df.index)):\n",
    "        try:\n",
    "            couch = Part.create(api, {\n",
    "                'name': df.loc[i]['name'],\n",
    "                'description': df.loc[i]['descripition'],\n",
    "                'category': cat_pk,\n",
    "                'active': True,\n",
    "                'virtual': False,\n",
    "                'IPN':df.loc[i]['IPN'],\n",
    "                'link':df.loc[i]['link'],\n",
    "                'keywords':df.loc[i]['keyword'],\n",
    "                'default_location': loc_pk\n",
    "                ## Note - You do not have to fill out *all* fields\n",
    "                })\n",
    "            couch.uploadImage('lc/'+str(df.loc[i]['IPN'])+'.jpg')\n",
    "            StockItem.create(api, { 'part': couch.pk, 'quantity': df.loc[i]['stock'], 'location': loc_pk, 'status':10 })\n",
    "            SupplierPart.create(api,{\n",
    "            'part':couch.pk,\n",
    "            'supplier':company_pk,\n",
    "            'SKU':df.loc[i]['IPN']\n",
    "            })\n",
    "            print('导入'+str(df.loc[i]['IPN'])+'成功')\n",
    "        except:\n",
    "            print('导入'+str(df.loc[i]['IPN'])+'失败')\n",
    "        pbar.update(1/len(df.index))\n",
    "    print('导入完毕')\n",
    "    pbar.close()"
   ]
  },
  {
   "cell_type": "code",
   "execution_count": 13,
   "id": "e68f0437",
   "metadata": {},
   "outputs": [
    {
     "name": "stdout",
     "output_type": "stream",
     "text": [
      "url:http://192.168.50.123:1337\n",
      "username:3218\n",
      "password:········\n",
      "登录成功！\n"
     ]
    }
   ],
   "source": [
    "url=input('url:')\n",
    "username=input('username:')\n",
    "password=getpass.getpass('password:')\n",
    "api=login_inventree(url,username,password)"
   ]
  },
  {
   "cell_type": "code",
   "execution_count": 26,
   "id": "3c2a1c1c",
   "metadata": {
    "scrolled": false
   },
   "outputs": [
    {
     "name": "stdout",
     "output_type": "stream",
     "text": [
      "file:lcsc9.txt\n",
      "文件读取成功！\n"
     ]
    },
    {
     "data": {
      "text/html": [
       "<div>\n",
       "<style scoped>\n",
       "    .dataframe tbody tr th:only-of-type {\n",
       "        vertical-align: middle;\n",
       "    }\n",
       "\n",
       "    .dataframe tbody tr th {\n",
       "        vertical-align: top;\n",
       "    }\n",
       "\n",
       "    .dataframe thead th {\n",
       "        text-align: right;\n",
       "    }\n",
       "</style>\n",
       "<table border=\"1\" class=\"dataframe\">\n",
       "  <thead>\n",
       "    <tr style=\"text-align: right;\">\n",
       "      <th></th>\n",
       "      <th>IPN</th>\n",
       "      <th>name</th>\n",
       "      <th>descripition</th>\n",
       "      <th>keyword</th>\n",
       "      <th>footprint</th>\n",
       "      <th>link</th>\n",
       "      <th>img</th>\n",
       "      <th>stock</th>\n",
       "      <th>price</th>\n",
       "    </tr>\n",
       "  </thead>\n",
       "  <tbody>\n",
       "    <tr>\n",
       "      <th>0</th>\n",
       "      <td>C2835639</td>\n",
       "      <td>场效应管(MOSFET)</td>\n",
       "      <td>N沟道 80V 170A</td>\n",
       "      <td>HY3708P</td>\n",
       "      <td>TO-220FB-3L</td>\n",
       "      <td>https://item.szlcsc.com/3000383.html</td>\n",
       "      <td>https://alimg.szlcsc.com/upload/public/product...</td>\n",
       "      <td>20</td>\n",
       "      <td>5.18</td>\n",
       "    </tr>\n",
       "    <tr>\n",
       "      <th>1</th>\n",
       "      <td>C86650</td>\n",
       "      <td>DC-DC电源芯片</td>\n",
       "      <td>降压型</td>\n",
       "      <td>LM2576T-12</td>\n",
       "      <td>TO-220-5</td>\n",
       "      <td>https://item.szlcsc.com/87827.html</td>\n",
       "      <td>https://alimg.szlcsc.com/upload/public/product...</td>\n",
       "      <td>10</td>\n",
       "      <td>5.52</td>\n",
       "    </tr>\n",
       "    <tr>\n",
       "      <th>2</th>\n",
       "      <td>C914529</td>\n",
       "      <td>直插独石电容(MLCC)</td>\n",
       "      <td>1uF ±10% 100V</td>\n",
       "      <td>105K-100V-1812</td>\n",
       "      <td>径向引线,P=5mm</td>\n",
       "      <td>https://item.szlcsc.com/985427.html</td>\n",
       "      <td>https://alimg.szlcsc.com/upload/public/product...</td>\n",
       "      <td>3</td>\n",
       "      <td>1.2338</td>\n",
       "    </tr>\n",
       "    <tr>\n",
       "      <th>3</th>\n",
       "      <td>C2905592</td>\n",
       "      <td>插件电感</td>\n",
       "      <td>1mH</td>\n",
       "      <td>PXT100577</td>\n",
       "      <td>径向引线,6x8mm</td>\n",
       "      <td>https://item.szlcsc.com/3175858.html</td>\n",
       "      <td>https://static.szlcsc.com/ecp/public/static/im...</td>\n",
       "      <td>10</td>\n",
       "      <td>0.326847</td>\n",
       "    </tr>\n",
       "    <tr>\n",
       "      <th>4</th>\n",
       "      <td>C4649</td>\n",
       "      <td>散热板</td>\n",
       "      <td>散热片</td>\n",
       "      <td>15*10.5*21 H型散热片</td>\n",
       "      <td>15*10.5*21</td>\n",
       "      <td>https://item.szlcsc.com/5057.html</td>\n",
       "      <td>https://alimg.szlcsc.com/upload/public/product...</td>\n",
       "      <td>10</td>\n",
       "      <td>0.720783</td>\n",
       "    </tr>\n",
       "    <tr>\n",
       "      <th>5</th>\n",
       "      <td>C17622</td>\n",
       "      <td>贴片电阻</td>\n",
       "      <td>30Ω ±1% 1</td>\n",
       "      <td>0805W8F300JT5E</td>\n",
       "      <td>0805</td>\n",
       "      <td>https://item.szlcsc.com/18310.html</td>\n",
       "      <td>https://alimg.szlcsc.com/upload/public/product...</td>\n",
       "      <td>100</td>\n",
       "      <td>0.01536</td>\n",
       "    </tr>\n",
       "    <tr>\n",
       "      <th>6</th>\n",
       "      <td>C915156</td>\n",
       "      <td>功率电感</td>\n",
       "      <td>100uH ±10%</td>\n",
       "      <td>MSCD32-101KT</td>\n",
       "      <td>SMD</td>\n",
       "      <td>https://item.szlcsc.com/987381.html</td>\n",
       "      <td>https://alimg.szlcsc.com/upload/public/product...</td>\n",
       "      <td>20</td>\n",
       "      <td>0.164162</td>\n",
       "    </tr>\n",
       "    <tr>\n",
       "      <th>7</th>\n",
       "      <td>C2847237</td>\n",
       "      <td>引线型铝电解电容</td>\n",
       "      <td>100uF ±20% 80V</td>\n",
       "      <td>LZ101M0801013PE3</td>\n",
       "      <td>径向引线,10x13mm</td>\n",
       "      <td>https://item.szlcsc.com/3043350.html</td>\n",
       "      <td>https://alimg.szlcsc.com/upload/public/product...</td>\n",
       "      <td>20</td>\n",
       "      <td>0.633266</td>\n",
       "    </tr>\n",
       "    <tr>\n",
       "      <th>8</th>\n",
       "      <td>C1713</td>\n",
       "      <td>贴片电容(MLCC)</td>\n",
       "      <td>10uF ±10% 16V</td>\n",
       "      <td>CL21A106KOQNNNE</td>\n",
       "      <td>0805</td>\n",
       "      <td>https://item.szlcsc.com/2065.html</td>\n",
       "      <td>https://alimg.szlcsc.com/upload/public/product...</td>\n",
       "      <td>50</td>\n",
       "      <td>0.057115</td>\n",
       "    </tr>\n",
       "    <tr>\n",
       "      <th>9</th>\n",
       "      <td>C389518</td>\n",
       "      <td>发光二极管</td>\n",
       "      <td>普绿</td>\n",
       "      <td>MHT192CGCT</td>\n",
       "      <td>0603</td>\n",
       "      <td>https://item.szlcsc.com/364864.html</td>\n",
       "      <td>https://alimg.szlcsc.com/upload/public/product...</td>\n",
       "      <td>20</td>\n",
       "      <td>0.160273</td>\n",
       "    </tr>\n",
       "    <tr>\n",
       "      <th>10</th>\n",
       "      <td>C2985583</td>\n",
       "      <td>肖特基二极管</td>\n",
       "      <td>SD103AW S4</td>\n",
       "      <td>SD103AW S4</td>\n",
       "      <td>SOD-123</td>\n",
       "      <td>https://item.szlcsc.com/3430729.html</td>\n",
       "      <td>https://alimg.szlcsc.com/upload/public/product...</td>\n",
       "      <td>50</td>\n",
       "      <td>0.068493</td>\n",
       "    </tr>\n",
       "    <tr>\n",
       "      <th>11</th>\n",
       "      <td>C8465</td>\n",
       "      <td>螺钉式接线端子</td>\n",
       "      <td>5.08mm 排数:1 每排P数:2 直针 可拼接</td>\n",
       "      <td>WJ500V-5.08-2P</td>\n",
       "      <td>P=5.08mm</td>\n",
       "      <td>https://item.szlcsc.com/8959.html</td>\n",
       "      <td>https://alimg.szlcsc.com/upload/public/product...</td>\n",
       "      <td>10</td>\n",
       "      <td>0.706504</td>\n",
       "    </tr>\n",
       "    <tr>\n",
       "      <th>12</th>\n",
       "      <td>C514179</td>\n",
       "      <td>薄膜电容</td>\n",
       "      <td>1nF ±5% 100V</td>\n",
       "      <td>PE102J2A0503</td>\n",
       "      <td>径向引线,P=5mm</td>\n",
       "      <td>https://item.szlcsc.com/529635.html</td>\n",
       "      <td>https://alimg.szlcsc.com/upload/public/product...</td>\n",
       "      <td>20</td>\n",
       "      <td>0.286271</td>\n",
       "    </tr>\n",
       "    <tr>\n",
       "      <th>13</th>\n",
       "      <td>C94713</td>\n",
       "      <td>直插独石电容(MLCC)</td>\n",
       "      <td>10nF ±10% 50V</td>\n",
       "      <td>CT4-0805B103K500F3</td>\n",
       "      <td>径向引线,P=5.08mm</td>\n",
       "      <td>https://item.szlcsc.com/95911.html</td>\n",
       "      <td>https://alimg.szlcsc.com/upload/public/product...</td>\n",
       "      <td>20</td>\n",
       "      <td>0.181176</td>\n",
       "    </tr>\n",
       "    <tr>\n",
       "      <th>14</th>\n",
       "      <td>C248991</td>\n",
       "      <td>磁性传感器</td>\n",
       "      <td>线性霍尔电路</td>\n",
       "      <td>AH3503</td>\n",
       "      <td>TO-92</td>\n",
       "      <td>https://item.szlcsc.com/245468.html</td>\n",
       "      <td>https://alimg.szlcsc.com/upload/public/product...</td>\n",
       "      <td>3</td>\n",
       "      <td>1.0192</td>\n",
       "    </tr>\n",
       "    <tr>\n",
       "      <th>15</th>\n",
       "      <td>C2762619</td>\n",
       "      <td>磁性传感器</td>\n",
       "      <td>线性霍尔元件 线性霍尔传感器</td>\n",
       "      <td>HX6659IUA-C</td>\n",
       "      <td>TO-92S</td>\n",
       "      <td>https://item.szlcsc.com/2890107.html</td>\n",
       "      <td>https://alimg.szlcsc.com/upload/public/product...</td>\n",
       "      <td>3</td>\n",
       "      <td>3.04</td>\n",
       "    </tr>\n",
       "    <tr>\n",
       "      <th>16</th>\n",
       "      <td>C2836205</td>\n",
       "      <td>磁性传感器</td>\n",
       "      <td>霍尔效应传感器</td>\n",
       "      <td>ES49ESUA</td>\n",
       "      <td>TO-92S</td>\n",
       "      <td>https://item.szlcsc.com/3001869.html</td>\n",
       "      <td>https://alimg.szlcsc.com/upload/public/product...</td>\n",
       "      <td>3</td>\n",
       "      <td>1.2496</td>\n",
       "    </tr>\n",
       "  </tbody>\n",
       "</table>\n",
       "</div>"
      ],
      "text/plain": [
       "         IPN          name               descripition             keyword  \\\n",
       "0   C2835639  场效应管(MOSFET)               N沟道 80V 170A             HY3708P   \n",
       "1     C86650     DC-DC电源芯片                        降压型          LM2576T-12   \n",
       "2    C914529  直插独石电容(MLCC)              1uF ±10% 100V      105K-100V-1812   \n",
       "3   C2905592          插件电感                        1mH           PXT100577   \n",
       "4      C4649           散热板                       散热片     15*10.5*21 H型散热片   \n",
       "5     C17622          贴片电阻                  30Ω ±1% 1      0805W8F300JT5E   \n",
       "6    C915156          功率电感                 100uH ±10%        MSCD32-101KT   \n",
       "7   C2847237      引线型铝电解电容             100uF ±20% 80V    LZ101M0801013PE3   \n",
       "8      C1713    贴片电容(MLCC)              10uF ±10% 16V     CL21A106KOQNNNE   \n",
       "9    C389518         发光二极管                         普绿          MHT192CGCT   \n",
       "10  C2985583        肖特基二极管                 SD103AW S4          SD103AW S4   \n",
       "11     C8465       螺钉式接线端子  5.08mm 排数:1 每排P数:2 直针 可拼接      WJ500V-5.08-2P   \n",
       "12   C514179          薄膜电容               1nF ±5% 100V        PE102J2A0503   \n",
       "13    C94713  直插独石电容(MLCC)              10nF ±10% 50V  CT4-0805B103K500F3   \n",
       "14   C248991         磁性传感器                     线性霍尔电路              AH3503   \n",
       "15  C2762619         磁性传感器             线性霍尔元件 线性霍尔传感器         HX6659IUA-C   \n",
       "16  C2836205         磁性传感器                    霍尔效应传感器            ES49ESUA   \n",
       "\n",
       "        footprint                                  link  \\\n",
       "0     TO-220FB-3L  https://item.szlcsc.com/3000383.html   \n",
       "1        TO-220-5    https://item.szlcsc.com/87827.html   \n",
       "2      径向引线,P=5mm   https://item.szlcsc.com/985427.html   \n",
       "3      径向引线,6x8mm  https://item.szlcsc.com/3175858.html   \n",
       "4      15*10.5*21     https://item.szlcsc.com/5057.html   \n",
       "5            0805    https://item.szlcsc.com/18310.html   \n",
       "6             SMD   https://item.szlcsc.com/987381.html   \n",
       "7    径向引线,10x13mm  https://item.szlcsc.com/3043350.html   \n",
       "8            0805     https://item.szlcsc.com/2065.html   \n",
       "9            0603   https://item.szlcsc.com/364864.html   \n",
       "10        SOD-123  https://item.szlcsc.com/3430729.html   \n",
       "11       P=5.08mm     https://item.szlcsc.com/8959.html   \n",
       "12     径向引线,P=5mm   https://item.szlcsc.com/529635.html   \n",
       "13  径向引线,P=5.08mm    https://item.szlcsc.com/95911.html   \n",
       "14          TO-92   https://item.szlcsc.com/245468.html   \n",
       "15         TO-92S  https://item.szlcsc.com/2890107.html   \n",
       "16         TO-92S  https://item.szlcsc.com/3001869.html   \n",
       "\n",
       "                                                  img stock     price  \n",
       "0   https://alimg.szlcsc.com/upload/public/product...    20      5.18  \n",
       "1   https://alimg.szlcsc.com/upload/public/product...    10      5.52  \n",
       "2   https://alimg.szlcsc.com/upload/public/product...     3    1.2338  \n",
       "3   https://static.szlcsc.com/ecp/public/static/im...    10  0.326847  \n",
       "4   https://alimg.szlcsc.com/upload/public/product...    10  0.720783  \n",
       "5   https://alimg.szlcsc.com/upload/public/product...   100   0.01536  \n",
       "6   https://alimg.szlcsc.com/upload/public/product...    20  0.164162  \n",
       "7   https://alimg.szlcsc.com/upload/public/product...    20  0.633266  \n",
       "8   https://alimg.szlcsc.com/upload/public/product...    50  0.057115  \n",
       "9   https://alimg.szlcsc.com/upload/public/product...    20  0.160273  \n",
       "10  https://alimg.szlcsc.com/upload/public/product...    50  0.068493  \n",
       "11  https://alimg.szlcsc.com/upload/public/product...    10  0.706504  \n",
       "12  https://alimg.szlcsc.com/upload/public/product...    20  0.286271  \n",
       "13  https://alimg.szlcsc.com/upload/public/product...    20  0.181176  \n",
       "14  https://alimg.szlcsc.com/upload/public/product...     3    1.0192  \n",
       "15  https://alimg.szlcsc.com/upload/public/product...     3      3.04  \n",
       "16  https://alimg.szlcsc.com/upload/public/product...     3    1.2496  "
      ]
     },
     "execution_count": 26,
     "metadata": {},
     "output_type": "execute_result"
    }
   ],
   "source": [
    "filepath=input('file:')\n",
    "soup=read_lcsc_order(filepath)\n",
    "df=deal_order_data(soup)\n",
    "df"
   ]
  },
  {
   "cell_type": "code",
   "execution_count": 18,
   "id": "4dfd1d7b",
   "metadata": {
    "scrolled": true
   },
   "outputs": [
    {
     "name": "stdout",
     "output_type": "stream",
     "text": [
      "pk  name\n",
      "1    电子元器件\n",
      "19    lcsc\n",
      "14    电子设备\n",
      "13    直线电机零件\n",
      "请输入插入的分类pk号：19\n",
      "pk  name\n",
      "3    东莞市雷宝电子有限公司\n",
      "2    海美格磁石技术（深圳）有限公司\n",
      "1    立创商城\n",
      "请输入插入的供应商pk号：1\n",
      "pk  name\n",
      "1    电子元器件\n",
      "8    1\n",
      "9    2\n",
      "10    货架1\n",
      "11    货架2\n",
      "请输入插入的默认仓库pk号：8\n"
     ]
    }
   ],
   "source": [
    "cat_pk=Inventree_read_PartCategory(api)\n",
    "company_pk=Inventree_read_company(api)\n",
    "loc_pk=Inventree_read_location(api)"
   ]
  },
  {
   "cell_type": "code",
   "execution_count": 27,
   "id": "6d01b7cb",
   "metadata": {},
   "outputs": [
    {
     "name": "stderr",
     "output_type": "stream",
     "text": [
      "0.11764705882352941it [00:00,  1.35s/it]"
     ]
    },
    {
     "name": "stdout",
     "output_type": "stream",
     "text": [
      "导入C2835639失败\n",
      "导入C86650失败\n"
     ]
    },
    {
     "name": "stderr",
     "output_type": "stream",
     "text": [
      "0.35294117647058826it [00:01,  4.32s/it]"
     ]
    },
    {
     "name": "stdout",
     "output_type": "stream",
     "text": [
      "导入C4649失败\n",
      "导入C17622失败\n",
      "导入C915156失败\n"
     ]
    },
    {
     "name": "stderr",
     "output_type": "stream",
     "text": [
      "0.5882352941176471it [00:02,  3.67s/it] "
     ]
    },
    {
     "name": "stdout",
     "output_type": "stream",
     "text": [
      "导入C1713失败\n",
      "导入C389518失败\n",
      "导入C2985583失败\n"
     ]
    },
    {
     "name": "stderr",
     "output_type": "stream",
     "text": [
      "\r",
      "0.7058823529411765it [00:02,  2.84s/it]"
     ]
    },
    {
     "name": "stdout",
     "output_type": "stream",
     "text": [
      "导入C8465失败\n"
     ]
    },
    {
     "name": "stderr",
     "output_type": "stream",
     "text": [
      "1.0it [00:05,  5.66s/it]               "
     ]
    },
    {
     "name": "stdout",
     "output_type": "stream",
     "text": [
      "导入完成\n"
     ]
    },
    {
     "name": "stderr",
     "output_type": "stream",
     "text": [
      "\n"
     ]
    }
   ],
   "source": [
    "Inventree_Part_create(api,df,loc_pk,company_pk,cat_pk)"
   ]
  },
  {
   "cell_type": "code",
   "execution_count": null,
   "id": "993c95a5",
   "metadata": {},
   "outputs": [],
   "source": []
  }
 ],
 "metadata": {
  "kernelspec": {
   "display_name": "Python 3 (ipykernel)",
   "language": "python",
   "name": "python3"
  },
  "language_info": {
   "codemirror_mode": {
    "name": "ipython",
    "version": 3
   },
   "file_extension": ".py",
   "mimetype": "text/x-python",
   "name": "python",
   "nbconvert_exporter": "python",
   "pygments_lexer": "ipython3",
   "version": "3.11.4"
  }
 },
 "nbformat": 4,
 "nbformat_minor": 5
}
